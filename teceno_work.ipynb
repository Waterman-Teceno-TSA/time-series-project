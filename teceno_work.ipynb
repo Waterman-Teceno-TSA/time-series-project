{
 "cells": [
  {
   "cell_type": "code",
   "execution_count": 122,
   "metadata": {},
   "outputs": [],
   "source": [
    "from env import get_db_url\n",
    "import pandas as pd\n",
    "import numpy as np\n",
    "import os\n",
    "import datetime\n",
    "import seaborn as sns\n",
    "import matplotlib.pyplot as plt\n",
    "from matplotlib import style\n",
    "style.use('ggplot')"
   ]
  },
  {
   "cell_type": "code",
   "execution_count": 3,
   "metadata": {},
   "outputs": [],
   "source": [
    "def get_store_data(use_cache = True):\n",
    "    \"\"\"\n",
    "    Get store data from the database.\n",
    "    \"\"\"\n",
    "    filename = \"store_data.csv\"\n",
    "    if os.path.isfile(filename) and use_cache:\n",
    "        print(\"Loading store data from cache...\")\n",
    "        store_data = pd.read_csv(filename)\n",
    "    print(\"reading store data from database...\")\n",
    "    url = get_db_url('superstore_db')\n",
    "    query = '''\n",
    "    SELECT  orders.*,\n",
    "        categories.`Category`, \n",
    "        categories.`Sub-Category`,\n",
    "        customers.`Customer Name`,\n",
    "        products.`Product Name`,\n",
    "        regions.`Region Name`\n",
    "    FROM orders\n",
    "    LEFT JOIN categories USING (`Category ID`)\n",
    "    LEFT JOIN customers USING (`Customer ID`)\n",
    "    LEFT JOIN products USING (`Product ID`)\n",
    "    LEFT JOIN regions USING (`Region ID`)\n",
    "    '''\n",
    "    df = pd.read_sql(query, url)\n",
    "    print(\"writing store data to cache...\")\n",
    "    df.to_csv(filename, index = False)\n",
    "    return df"
   ]
  },
  {
   "cell_type": "code",
   "execution_count": 4,
   "metadata": {},
   "outputs": [
    {
     "name": "stdout",
     "output_type": "stream",
     "text": [
      "reading store data from database...\n",
      "writing store data to cache...\n"
     ]
    },
    {
     "data": {
      "text/html": [
       "<div>\n",
       "<style scoped>\n",
       "    .dataframe tbody tr th:only-of-type {\n",
       "        vertical-align: middle;\n",
       "    }\n",
       "\n",
       "    .dataframe tbody tr th {\n",
       "        vertical-align: top;\n",
       "    }\n",
       "\n",
       "    .dataframe thead th {\n",
       "        text-align: right;\n",
       "    }\n",
       "</style>\n",
       "<table border=\"1\" class=\"dataframe\">\n",
       "  <thead>\n",
       "    <tr style=\"text-align: right;\">\n",
       "      <th></th>\n",
       "      <th>Order ID</th>\n",
       "      <th>Order Date</th>\n",
       "      <th>Ship Date</th>\n",
       "      <th>Ship Mode</th>\n",
       "      <th>Customer ID</th>\n",
       "      <th>Segment</th>\n",
       "      <th>Country</th>\n",
       "      <th>City</th>\n",
       "      <th>State</th>\n",
       "      <th>Postal Code</th>\n",
       "      <th>...</th>\n",
       "      <th>Quantity</th>\n",
       "      <th>Discount</th>\n",
       "      <th>Profit</th>\n",
       "      <th>Category ID</th>\n",
       "      <th>Region ID</th>\n",
       "      <th>Category</th>\n",
       "      <th>Sub-Category</th>\n",
       "      <th>Customer Name</th>\n",
       "      <th>Product Name</th>\n",
       "      <th>Region Name</th>\n",
       "    </tr>\n",
       "  </thead>\n",
       "  <tbody>\n",
       "    <tr>\n",
       "      <th>0</th>\n",
       "      <td>CA-2016-152156</td>\n",
       "      <td>2016-11-08</td>\n",
       "      <td>2016-11-11</td>\n",
       "      <td>Second Class</td>\n",
       "      <td>CG-12520</td>\n",
       "      <td>Consumer</td>\n",
       "      <td>United States</td>\n",
       "      <td>Henderson</td>\n",
       "      <td>Kentucky</td>\n",
       "      <td>42420.0</td>\n",
       "      <td>...</td>\n",
       "      <td>2.0</td>\n",
       "      <td>0.00</td>\n",
       "      <td>41.9136</td>\n",
       "      <td>1</td>\n",
       "      <td>1</td>\n",
       "      <td>Furniture</td>\n",
       "      <td>Bookcases</td>\n",
       "      <td>Claire Gute</td>\n",
       "      <td>Bush Somerset Collection Bookcase</td>\n",
       "      <td>South</td>\n",
       "    </tr>\n",
       "    <tr>\n",
       "      <th>1</th>\n",
       "      <td>CA-2016-152156</td>\n",
       "      <td>2016-11-08</td>\n",
       "      <td>2016-11-11</td>\n",
       "      <td>Second Class</td>\n",
       "      <td>CG-12520</td>\n",
       "      <td>Consumer</td>\n",
       "      <td>United States</td>\n",
       "      <td>Henderson</td>\n",
       "      <td>Kentucky</td>\n",
       "      <td>42420.0</td>\n",
       "      <td>...</td>\n",
       "      <td>3.0</td>\n",
       "      <td>0.00</td>\n",
       "      <td>219.5820</td>\n",
       "      <td>2</td>\n",
       "      <td>1</td>\n",
       "      <td>Furniture</td>\n",
       "      <td>Chairs</td>\n",
       "      <td>Claire Gute</td>\n",
       "      <td>Hon Deluxe Fabric Upholstered Stacking Chairs,...</td>\n",
       "      <td>South</td>\n",
       "    </tr>\n",
       "    <tr>\n",
       "      <th>2</th>\n",
       "      <td>CA-2016-138688</td>\n",
       "      <td>2016-06-12</td>\n",
       "      <td>2016-06-16</td>\n",
       "      <td>Second Class</td>\n",
       "      <td>DV-13045</td>\n",
       "      <td>Corporate</td>\n",
       "      <td>United States</td>\n",
       "      <td>Los Angeles</td>\n",
       "      <td>California</td>\n",
       "      <td>90036.0</td>\n",
       "      <td>...</td>\n",
       "      <td>2.0</td>\n",
       "      <td>0.00</td>\n",
       "      <td>6.8714</td>\n",
       "      <td>3</td>\n",
       "      <td>2</td>\n",
       "      <td>Office Supplies</td>\n",
       "      <td>Labels</td>\n",
       "      <td>Darrin Van Huff</td>\n",
       "      <td>Self-Adhesive Address Labels for Typewriters b...</td>\n",
       "      <td>West</td>\n",
       "    </tr>\n",
       "    <tr>\n",
       "      <th>3</th>\n",
       "      <td>US-2015-108966</td>\n",
       "      <td>2015-10-11</td>\n",
       "      <td>2015-10-18</td>\n",
       "      <td>Standard Class</td>\n",
       "      <td>SO-20335</td>\n",
       "      <td>Consumer</td>\n",
       "      <td>United States</td>\n",
       "      <td>Fort Lauderdale</td>\n",
       "      <td>Florida</td>\n",
       "      <td>33311.0</td>\n",
       "      <td>...</td>\n",
       "      <td>5.0</td>\n",
       "      <td>0.45</td>\n",
       "      <td>-383.0310</td>\n",
       "      <td>4</td>\n",
       "      <td>1</td>\n",
       "      <td>Furniture</td>\n",
       "      <td>Tables</td>\n",
       "      <td>Sean O'Donnell</td>\n",
       "      <td>Bretford CR4500 Series Slim Rectangular Table</td>\n",
       "      <td>South</td>\n",
       "    </tr>\n",
       "    <tr>\n",
       "      <th>4</th>\n",
       "      <td>US-2015-108966</td>\n",
       "      <td>2015-10-11</td>\n",
       "      <td>2015-10-18</td>\n",
       "      <td>Standard Class</td>\n",
       "      <td>SO-20335</td>\n",
       "      <td>Consumer</td>\n",
       "      <td>United States</td>\n",
       "      <td>Fort Lauderdale</td>\n",
       "      <td>Florida</td>\n",
       "      <td>33311.0</td>\n",
       "      <td>...</td>\n",
       "      <td>2.0</td>\n",
       "      <td>0.20</td>\n",
       "      <td>2.5164</td>\n",
       "      <td>5</td>\n",
       "      <td>1</td>\n",
       "      <td>Office Supplies</td>\n",
       "      <td>Storage</td>\n",
       "      <td>Sean O'Donnell</td>\n",
       "      <td>Eldon Fold 'N Roll Cart System</td>\n",
       "      <td>South</td>\n",
       "    </tr>\n",
       "  </tbody>\n",
       "</table>\n",
       "<p>5 rows × 22 columns</p>\n",
       "</div>"
      ],
      "text/plain": [
       "         Order ID  Order Date   Ship Date       Ship Mode Customer ID  \\\n",
       "0  CA-2016-152156  2016-11-08  2016-11-11    Second Class    CG-12520   \n",
       "1  CA-2016-152156  2016-11-08  2016-11-11    Second Class    CG-12520   \n",
       "2  CA-2016-138688  2016-06-12  2016-06-16    Second Class    DV-13045   \n",
       "3  US-2015-108966  2015-10-11  2015-10-18  Standard Class    SO-20335   \n",
       "4  US-2015-108966  2015-10-11  2015-10-18  Standard Class    SO-20335   \n",
       "\n",
       "     Segment        Country             City       State  Postal Code  ...  \\\n",
       "0   Consumer  United States        Henderson    Kentucky      42420.0  ...   \n",
       "1   Consumer  United States        Henderson    Kentucky      42420.0  ...   \n",
       "2  Corporate  United States      Los Angeles  California      90036.0  ...   \n",
       "3   Consumer  United States  Fort Lauderdale     Florida      33311.0  ...   \n",
       "4   Consumer  United States  Fort Lauderdale     Florida      33311.0  ...   \n",
       "\n",
       "  Quantity  Discount    Profit  Category ID  Region ID         Category  \\\n",
       "0      2.0      0.00   41.9136            1          1        Furniture   \n",
       "1      3.0      0.00  219.5820            2          1        Furniture   \n",
       "2      2.0      0.00    6.8714            3          2  Office Supplies   \n",
       "3      5.0      0.45 -383.0310            4          1        Furniture   \n",
       "4      2.0      0.20    2.5164            5          1  Office Supplies   \n",
       "\n",
       "   Sub-Category    Customer Name  \\\n",
       "0     Bookcases      Claire Gute   \n",
       "1        Chairs      Claire Gute   \n",
       "2        Labels  Darrin Van Huff   \n",
       "3        Tables   Sean O'Donnell   \n",
       "4       Storage   Sean O'Donnell   \n",
       "\n",
       "                                        Product Name Region Name  \n",
       "0                  Bush Somerset Collection Bookcase       South  \n",
       "1  Hon Deluxe Fabric Upholstered Stacking Chairs,...       South  \n",
       "2  Self-Adhesive Address Labels for Typewriters b...        West  \n",
       "3      Bretford CR4500 Series Slim Rectangular Table       South  \n",
       "4                     Eldon Fold 'N Roll Cart System       South  \n",
       "\n",
       "[5 rows x 22 columns]"
      ]
     },
     "execution_count": 4,
     "metadata": {},
     "output_type": "execute_result"
    }
   ],
   "source": [
    "df = get_store_data(use_cache=False)\n",
    "df.head()"
   ]
  },
  {
   "cell_type": "code",
   "execution_count": 150,
   "metadata": {},
   "outputs": [
    {
     "data": {
      "text/plain": [
       "(1734, 24)"
      ]
     },
     "execution_count": 150,
     "metadata": {},
     "output_type": "execute_result"
    }
   ],
   "source": [
    "df.shape"
   ]
  },
  {
   "cell_type": "code",
   "execution_count": 5,
   "metadata": {},
   "outputs": [],
   "source": [
    "# rename all columns to lowercase\n",
    "df.columns = [c.lower() for c in df.columns]\n",
    "# replace spaces in column names with underscores\n",
    "df.columns = [c.replace(' ', '_') for c in df.columns]\n",
    "# replace - with _ in column names\n",
    "df.columns = [c.replace('-', '_') for c in df.columns]\n",
    "# convert the date columns to datetime\n",
    "df['order_date'] = pd.to_datetime(df['order_date'])\n",
    "df['ship_date'] = pd.to_datetime(df['ship_date'])\n"
   ]
  },
  {
   "cell_type": "code",
   "execution_count": 6,
   "metadata": {},
   "outputs": [
    {
     "data": {
      "text/plain": [
       "order_id         0\n",
       "order_date       0\n",
       "ship_date        0\n",
       "ship_mode        0\n",
       "customer_id      0\n",
       "segment          0\n",
       "country          0\n",
       "city             0\n",
       "state            0\n",
       "postal_code      0\n",
       "product_id       0\n",
       "sales            0\n",
       "quantity         0\n",
       "discount         0\n",
       "profit           0\n",
       "category_id      0\n",
       "region_id        0\n",
       "category         0\n",
       "sub_category     0\n",
       "customer_name    0\n",
       "product_name     0\n",
       "region_name      0\n",
       "dtype: int64"
      ]
     },
     "execution_count": 6,
     "metadata": {},
     "output_type": "execute_result"
    }
   ],
   "source": [
    "df.isnull().sum()\n",
    "#no null values"
   ]
  },
  {
   "cell_type": "code",
   "execution_count": 7,
   "metadata": {},
   "outputs": [
    {
     "data": {
      "text/plain": [
       "(1.0799999999999998, 8159.951999999998)"
      ]
     },
     "execution_count": 7,
     "metadata": {},
     "output_type": "execute_result"
    }
   ],
   "source": [
    "df.sales.min(), df.sales.max()"
   ]
  },
  {
   "cell_type": "code",
   "execution_count": 60,
   "metadata": {},
   "outputs": [
    {
     "data": {
      "text/html": [
       "<div>\n",
       "<style scoped>\n",
       "    .dataframe tbody tr th:only-of-type {\n",
       "        vertical-align: middle;\n",
       "    }\n",
       "\n",
       "    .dataframe tbody tr th {\n",
       "        vertical-align: top;\n",
       "    }\n",
       "\n",
       "    .dataframe thead th {\n",
       "        text-align: right;\n",
       "    }\n",
       "</style>\n",
       "<table border=\"1\" class=\"dataframe\">\n",
       "  <thead>\n",
       "    <tr style=\"text-align: right;\">\n",
       "      <th></th>\n",
       "      <th>order_id</th>\n",
       "      <th>product_id</th>\n",
       "      <th>quantity</th>\n",
       "      <th>discount</th>\n",
       "      <th>sales</th>\n",
       "      <th>profit</th>\n",
       "      <th>order_date</th>\n",
       "      <th>unit_cost</th>\n",
       "      <th>unit_profit</th>\n",
       "    </tr>\n",
       "  </thead>\n",
       "  <tbody>\n",
       "    <tr>\n",
       "      <th>0</th>\n",
       "      <td>CA-2016-152156</td>\n",
       "      <td>FUR-BO-10001798</td>\n",
       "      <td>2.0</td>\n",
       "      <td>0.00</td>\n",
       "      <td>261.9600</td>\n",
       "      <td>41.9136</td>\n",
       "      <td>2016-11-08</td>\n",
       "      <td>130.98</td>\n",
       "      <td>20.9568</td>\n",
       "    </tr>\n",
       "    <tr>\n",
       "      <th>1</th>\n",
       "      <td>CA-2016-152156</td>\n",
       "      <td>FUR-CH-10000454</td>\n",
       "      <td>3.0</td>\n",
       "      <td>0.00</td>\n",
       "      <td>731.9400</td>\n",
       "      <td>219.5820</td>\n",
       "      <td>2016-11-08</td>\n",
       "      <td>243.98</td>\n",
       "      <td>73.1940</td>\n",
       "    </tr>\n",
       "    <tr>\n",
       "      <th>2</th>\n",
       "      <td>CA-2016-138688</td>\n",
       "      <td>OFF-LA-10000240</td>\n",
       "      <td>2.0</td>\n",
       "      <td>0.00</td>\n",
       "      <td>14.6200</td>\n",
       "      <td>6.8714</td>\n",
       "      <td>2016-06-12</td>\n",
       "      <td>7.31</td>\n",
       "      <td>3.4357</td>\n",
       "    </tr>\n",
       "    <tr>\n",
       "      <th>3</th>\n",
       "      <td>US-2015-108966</td>\n",
       "      <td>FUR-TA-10000577</td>\n",
       "      <td>5.0</td>\n",
       "      <td>0.45</td>\n",
       "      <td>957.5775</td>\n",
       "      <td>-383.0310</td>\n",
       "      <td>2015-10-11</td>\n",
       "      <td>348.21</td>\n",
       "      <td>-76.6062</td>\n",
       "    </tr>\n",
       "    <tr>\n",
       "      <th>4</th>\n",
       "      <td>US-2015-108966</td>\n",
       "      <td>OFF-ST-10000760</td>\n",
       "      <td>2.0</td>\n",
       "      <td>0.20</td>\n",
       "      <td>22.3680</td>\n",
       "      <td>2.5164</td>\n",
       "      <td>2015-10-11</td>\n",
       "      <td>13.98</td>\n",
       "      <td>1.2582</td>\n",
       "    </tr>\n",
       "  </tbody>\n",
       "</table>\n",
       "</div>"
      ],
      "text/plain": [
       "         order_id       product_id  quantity  discount     sales    profit  \\\n",
       "0  CA-2016-152156  FUR-BO-10001798       2.0      0.00  261.9600   41.9136   \n",
       "1  CA-2016-152156  FUR-CH-10000454       3.0      0.00  731.9400  219.5820   \n",
       "2  CA-2016-138688  OFF-LA-10000240       2.0      0.00   14.6200    6.8714   \n",
       "3  US-2015-108966  FUR-TA-10000577       5.0      0.45  957.5775 -383.0310   \n",
       "4  US-2015-108966  OFF-ST-10000760       2.0      0.20   22.3680    2.5164   \n",
       "\n",
       "  order_date  unit_cost  unit_profit  \n",
       "0 2016-11-08     130.98      20.9568  \n",
       "1 2016-11-08     243.98      73.1940  \n",
       "2 2016-06-12       7.31       3.4357  \n",
       "3 2015-10-11     348.21     -76.6062  \n",
       "4 2015-10-11      13.98       1.2582  "
      ]
     },
     "execution_count": 60,
     "metadata": {},
     "output_type": "execute_result"
    }
   ],
   "source": [
    "# create a new df for items, quantity, and price, discount\n",
    "df_items = df[['order_id', 'product_id', 'quantity', 'discount', 'sales', 'profit', 'order_date']].copy()\n",
    "#add unit cost column\n",
    "df_items['unit_cost'] = df_items.sales / ((1-df_items.discount) * df_items.quantity)\n",
    "#add unit profit column\n",
    "df_items['unit_profit'] = df_items.profit / df_items.quantity\n",
    "df_items.head()\n",
    "\n",
    "\n"
   ]
  },
  {
   "cell_type": "code",
   "execution_count": 55,
   "metadata": {},
   "outputs": [
    {
     "data": {
      "text/plain": [
       "product_id\n",
       "TEC-AC-10003832    29.0\n",
       "OFF-PA-10001970    26.0\n",
       "OFF-AR-10004042    24.0\n",
       "FUR-TA-10002607    24.0\n",
       "OFF-ST-10000604    23.0\n",
       "OFF-AR-10003373    22.0\n",
       "OFF-PA-10004530    22.0\n",
       "OFF-AR-10003514    22.0\n",
       "FUR-FU-10001706    22.0\n",
       "FUR-FU-10000010    22.0\n",
       "Name: quantity, dtype: float64"
      ]
     },
     "execution_count": 55,
     "metadata": {},
     "output_type": "execute_result"
    }
   ],
   "source": [
    "# which items are most commonly sold?\n",
    "df_items.groupby('product_id').quantity.sum().sort_values(ascending=False).head(10)"
   ]
  },
  {
   "cell_type": "code",
   "execution_count": 61,
   "metadata": {},
   "outputs": [
    {
     "data": {
      "text/html": [
       "<div>\n",
       "<style scoped>\n",
       "    .dataframe tbody tr th:only-of-type {\n",
       "        vertical-align: middle;\n",
       "    }\n",
       "\n",
       "    .dataframe tbody tr th {\n",
       "        vertical-align: top;\n",
       "    }\n",
       "\n",
       "    .dataframe thead th {\n",
       "        text-align: right;\n",
       "    }\n",
       "</style>\n",
       "<table border=\"1\" class=\"dataframe\">\n",
       "  <thead>\n",
       "    <tr style=\"text-align: right;\">\n",
       "      <th></th>\n",
       "      <th>order_id</th>\n",
       "      <th>product_id</th>\n",
       "      <th>quantity</th>\n",
       "      <th>discount</th>\n",
       "      <th>sales</th>\n",
       "      <th>profit</th>\n",
       "      <th>order_date</th>\n",
       "      <th>unit_cost</th>\n",
       "      <th>unit_profit</th>\n",
       "    </tr>\n",
       "  </thead>\n",
       "  <tbody>\n",
       "    <tr>\n",
       "      <th>235</th>\n",
       "      <td>US-2017-100930</td>\n",
       "      <td>TEC-AC-10003832</td>\n",
       "      <td>3.0</td>\n",
       "      <td>0.2</td>\n",
       "      <td>617.976</td>\n",
       "      <td>-7.7247</td>\n",
       "      <td>2017-04-07</td>\n",
       "      <td>257.49</td>\n",
       "      <td>-2.5749</td>\n",
       "    </tr>\n",
       "    <tr>\n",
       "      <th>251</th>\n",
       "      <td>CA-2016-145625</td>\n",
       "      <td>TEC-AC-10003832</td>\n",
       "      <td>13.0</td>\n",
       "      <td>0.0</td>\n",
       "      <td>3347.370</td>\n",
       "      <td>636.0003</td>\n",
       "      <td>2016-09-11</td>\n",
       "      <td>257.49</td>\n",
       "      <td>48.9231</td>\n",
       "    </tr>\n",
       "    <tr>\n",
       "      <th>524</th>\n",
       "      <td>US-2016-139486</td>\n",
       "      <td>TEC-AC-10003832</td>\n",
       "      <td>2.0</td>\n",
       "      <td>0.0</td>\n",
       "      <td>66.260</td>\n",
       "      <td>27.1666</td>\n",
       "      <td>2016-05-21</td>\n",
       "      <td>33.13</td>\n",
       "      <td>13.5833</td>\n",
       "    </tr>\n",
       "    <tr>\n",
       "      <th>643</th>\n",
       "      <td>CA-2017-106103</td>\n",
       "      <td>TEC-AC-10003832</td>\n",
       "      <td>4.0</td>\n",
       "      <td>0.0</td>\n",
       "      <td>132.520</td>\n",
       "      <td>54.3332</td>\n",
       "      <td>2017-06-10</td>\n",
       "      <td>33.13</td>\n",
       "      <td>13.5833</td>\n",
       "    </tr>\n",
       "    <tr>\n",
       "      <th>675</th>\n",
       "      <td>CA-2017-130351</td>\n",
       "      <td>TEC-AC-10003832</td>\n",
       "      <td>3.0</td>\n",
       "      <td>0.0</td>\n",
       "      <td>99.390</td>\n",
       "      <td>40.7499</td>\n",
       "      <td>2017-12-05</td>\n",
       "      <td>33.13</td>\n",
       "      <td>13.5833</td>\n",
       "    </tr>\n",
       "    <tr>\n",
       "      <th>1653</th>\n",
       "      <td>US-2017-132444</td>\n",
       "      <td>TEC-AC-10003832</td>\n",
       "      <td>4.0</td>\n",
       "      <td>0.0</td>\n",
       "      <td>132.520</td>\n",
       "      <td>54.3332</td>\n",
       "      <td>2017-11-18</td>\n",
       "      <td>33.13</td>\n",
       "      <td>13.5833</td>\n",
       "    </tr>\n",
       "  </tbody>\n",
       "</table>\n",
       "</div>"
      ],
      "text/plain": [
       "            order_id       product_id  quantity  discount     sales    profit  \\\n",
       "235   US-2017-100930  TEC-AC-10003832       3.0       0.2   617.976   -7.7247   \n",
       "251   CA-2016-145625  TEC-AC-10003832      13.0       0.0  3347.370  636.0003   \n",
       "524   US-2016-139486  TEC-AC-10003832       2.0       0.0    66.260   27.1666   \n",
       "643   CA-2017-106103  TEC-AC-10003832       4.0       0.0   132.520   54.3332   \n",
       "675   CA-2017-130351  TEC-AC-10003832       3.0       0.0    99.390   40.7499   \n",
       "1653  US-2017-132444  TEC-AC-10003832       4.0       0.0   132.520   54.3332   \n",
       "\n",
       "     order_date  unit_cost  unit_profit  \n",
       "235  2017-04-07     257.49      -2.5749  \n",
       "251  2016-09-11     257.49      48.9231  \n",
       "524  2016-05-21      33.13      13.5833  \n",
       "643  2017-06-10      33.13      13.5833  \n",
       "675  2017-12-05      33.13      13.5833  \n",
       "1653 2017-11-18      33.13      13.5833  "
      ]
     },
     "execution_count": 61,
     "metadata": {},
     "output_type": "execute_result"
    }
   ],
   "source": [
    "# look where product id  is TEC-AC-10003832\n",
    "df_items[df_items.product_id == 'TEC-AC-10003832']"
   ]
  },
  {
   "cell_type": "code",
   "execution_count": 62,
   "metadata": {},
   "outputs": [
    {
     "data": {
      "text/html": [
       "<div>\n",
       "<style scoped>\n",
       "    .dataframe tbody tr th:only-of-type {\n",
       "        vertical-align: middle;\n",
       "    }\n",
       "\n",
       "    .dataframe tbody tr th {\n",
       "        vertical-align: top;\n",
       "    }\n",
       "\n",
       "    .dataframe thead th {\n",
       "        text-align: right;\n",
       "    }\n",
       "</style>\n",
       "<table border=\"1\" class=\"dataframe\">\n",
       "  <thead>\n",
       "    <tr style=\"text-align: right;\">\n",
       "      <th></th>\n",
       "      <th>order_id</th>\n",
       "      <th>product_id</th>\n",
       "      <th>quantity</th>\n",
       "      <th>discount</th>\n",
       "      <th>sales</th>\n",
       "      <th>profit</th>\n",
       "      <th>order_date</th>\n",
       "      <th>unit_cost</th>\n",
       "      <th>unit_profit</th>\n",
       "    </tr>\n",
       "  </thead>\n",
       "  <tbody>\n",
       "    <tr>\n",
       "      <th>350</th>\n",
       "      <td>CA-2016-129714</td>\n",
       "      <td>OFF-PA-10001970</td>\n",
       "      <td>2.0</td>\n",
       "      <td>0.0</td>\n",
       "      <td>24.560</td>\n",
       "      <td>11.5432</td>\n",
       "      <td>2016-09-01</td>\n",
       "      <td>12.28</td>\n",
       "      <td>5.7716</td>\n",
       "    </tr>\n",
       "    <tr>\n",
       "      <th>352</th>\n",
       "      <td>CA-2016-129714</td>\n",
       "      <td>OFF-PA-10001970</td>\n",
       "      <td>4.0</td>\n",
       "      <td>0.0</td>\n",
       "      <td>49.120</td>\n",
       "      <td>23.0864</td>\n",
       "      <td>2016-09-01</td>\n",
       "      <td>12.28</td>\n",
       "      <td>5.7716</td>\n",
       "    </tr>\n",
       "    <tr>\n",
       "      <th>411</th>\n",
       "      <td>CA-2017-117457</td>\n",
       "      <td>OFF-PA-10001970</td>\n",
       "      <td>1.0</td>\n",
       "      <td>0.0</td>\n",
       "      <td>55.980</td>\n",
       "      <td>27.4302</td>\n",
       "      <td>2017-12-08</td>\n",
       "      <td>55.98</td>\n",
       "      <td>27.4302</td>\n",
       "    </tr>\n",
       "    <tr>\n",
       "      <th>437</th>\n",
       "      <td>CA-2016-147375</td>\n",
       "      <td>OFF-PA-10001970</td>\n",
       "      <td>7.0</td>\n",
       "      <td>0.2</td>\n",
       "      <td>313.488</td>\n",
       "      <td>113.6394</td>\n",
       "      <td>2016-06-12</td>\n",
       "      <td>55.98</td>\n",
       "      <td>16.2342</td>\n",
       "    </tr>\n",
       "    <tr>\n",
       "      <th>1071</th>\n",
       "      <td>CA-2016-152814</td>\n",
       "      <td>OFF-PA-10001970</td>\n",
       "      <td>3.0</td>\n",
       "      <td>0.2</td>\n",
       "      <td>29.472</td>\n",
       "      <td>9.9468</td>\n",
       "      <td>2016-04-28</td>\n",
       "      <td>12.28</td>\n",
       "      <td>3.3156</td>\n",
       "    </tr>\n",
       "    <tr>\n",
       "      <th>1117</th>\n",
       "      <td>CA-2015-142755</td>\n",
       "      <td>OFF-PA-10001970</td>\n",
       "      <td>5.0</td>\n",
       "      <td>0.0</td>\n",
       "      <td>279.900</td>\n",
       "      <td>137.1510</td>\n",
       "      <td>2015-09-04</td>\n",
       "      <td>55.98</td>\n",
       "      <td>27.4302</td>\n",
       "    </tr>\n",
       "    <tr>\n",
       "      <th>1191</th>\n",
       "      <td>CA-2017-117212</td>\n",
       "      <td>OFF-PA-10001970</td>\n",
       "      <td>4.0</td>\n",
       "      <td>0.0</td>\n",
       "      <td>223.920</td>\n",
       "      <td>109.7208</td>\n",
       "      <td>2017-02-26</td>\n",
       "      <td>55.98</td>\n",
       "      <td>27.4302</td>\n",
       "    </tr>\n",
       "  </tbody>\n",
       "</table>\n",
       "</div>"
      ],
      "text/plain": [
       "            order_id       product_id  quantity  discount    sales    profit  \\\n",
       "350   CA-2016-129714  OFF-PA-10001970       2.0       0.0   24.560   11.5432   \n",
       "352   CA-2016-129714  OFF-PA-10001970       4.0       0.0   49.120   23.0864   \n",
       "411   CA-2017-117457  OFF-PA-10001970       1.0       0.0   55.980   27.4302   \n",
       "437   CA-2016-147375  OFF-PA-10001970       7.0       0.2  313.488  113.6394   \n",
       "1071  CA-2016-152814  OFF-PA-10001970       3.0       0.2   29.472    9.9468   \n",
       "1117  CA-2015-142755  OFF-PA-10001970       5.0       0.0  279.900  137.1510   \n",
       "1191  CA-2017-117212  OFF-PA-10001970       4.0       0.0  223.920  109.7208   \n",
       "\n",
       "     order_date  unit_cost  unit_profit  \n",
       "350  2016-09-01      12.28       5.7716  \n",
       "352  2016-09-01      12.28       5.7716  \n",
       "411  2017-12-08      55.98      27.4302  \n",
       "437  2016-06-12      55.98      16.2342  \n",
       "1071 2016-04-28      12.28       3.3156  \n",
       "1117 2015-09-04      55.98      27.4302  \n",
       "1191 2017-02-26      55.98      27.4302  "
      ]
     },
     "execution_count": 62,
     "metadata": {},
     "output_type": "execute_result"
    }
   ],
   "source": [
    "# look where product_id is OFF-PA-10001970\n",
    "df_items[df_items.product_id == 'OFF-PA-10001970']"
   ]
  },
  {
   "cell_type": "code",
   "execution_count": 9,
   "metadata": {},
   "outputs": [
    {
     "data": {
      "text/html": [
       "<div>\n",
       "<style scoped>\n",
       "    .dataframe tbody tr th:only-of-type {\n",
       "        vertical-align: middle;\n",
       "    }\n",
       "\n",
       "    .dataframe tbody tr th {\n",
       "        vertical-align: top;\n",
       "    }\n",
       "\n",
       "    .dataframe thead th {\n",
       "        text-align: right;\n",
       "    }\n",
       "</style>\n",
       "<table border=\"1\" class=\"dataframe\">\n",
       "  <thead>\n",
       "    <tr style=\"text-align: right;\">\n",
       "      <th></th>\n",
       "      <th>quantity</th>\n",
       "      <th>discount</th>\n",
       "      <th>sales</th>\n",
       "      <th>profit</th>\n",
       "      <th>unit_cost</th>\n",
       "      <th>unit_profit</th>\n",
       "    </tr>\n",
       "  </thead>\n",
       "  <tbody>\n",
       "    <tr>\n",
       "      <th>count</th>\n",
       "      <td>1734.000000</td>\n",
       "      <td>1734.000000</td>\n",
       "      <td>1734.000000</td>\n",
       "      <td>1734.000000</td>\n",
       "      <td>1734.000000</td>\n",
       "      <td>1734.000000</td>\n",
       "    </tr>\n",
       "    <tr>\n",
       "      <th>mean</th>\n",
       "      <td>3.794694</td>\n",
       "      <td>0.160110</td>\n",
       "      <td>229.206358</td>\n",
       "      <td>21.880351</td>\n",
       "      <td>74.890006</td>\n",
       "      <td>6.197098</td>\n",
       "    </tr>\n",
       "    <tr>\n",
       "      <th>std</th>\n",
       "      <td>2.297407</td>\n",
       "      <td>0.206419</td>\n",
       "      <td>532.862614</td>\n",
       "      <td>202.891949</td>\n",
       "      <td>175.232540</td>\n",
       "      <td>49.454376</td>\n",
       "    </tr>\n",
       "    <tr>\n",
       "      <th>min</th>\n",
       "      <td>1.000000</td>\n",
       "      <td>0.000000</td>\n",
       "      <td>1.080000</td>\n",
       "      <td>-3839.990400</td>\n",
       "      <td>1.240000</td>\n",
       "      <td>-959.997600</td>\n",
       "    </tr>\n",
       "    <tr>\n",
       "      <th>25%</th>\n",
       "      <td>2.000000</td>\n",
       "      <td>0.000000</td>\n",
       "      <td>16.695000</td>\n",
       "      <td>1.702400</td>\n",
       "      <td>6.480000</td>\n",
       "      <td>0.722800</td>\n",
       "    </tr>\n",
       "    <tr>\n",
       "      <th>50%</th>\n",
       "      <td>3.000000</td>\n",
       "      <td>0.200000</td>\n",
       "      <td>52.245000</td>\n",
       "      <td>8.073050</td>\n",
       "      <td>19.990000</td>\n",
       "      <td>2.660250</td>\n",
       "    </tr>\n",
       "    <tr>\n",
       "      <th>75%</th>\n",
       "      <td>5.000000</td>\n",
       "      <td>0.200000</td>\n",
       "      <td>209.917500</td>\n",
       "      <td>27.414450</td>\n",
       "      <td>79.872500</td>\n",
       "      <td>8.158600</td>\n",
       "    </tr>\n",
       "    <tr>\n",
       "      <th>max</th>\n",
       "      <td>14.000000</td>\n",
       "      <td>0.800000</td>\n",
       "      <td>8159.952000</td>\n",
       "      <td>3177.475000</td>\n",
       "      <td>3999.990000</td>\n",
       "      <td>997.995000</td>\n",
       "    </tr>\n",
       "  </tbody>\n",
       "</table>\n",
       "</div>"
      ],
      "text/plain": [
       "          quantity     discount        sales       profit    unit_cost  \\\n",
       "count  1734.000000  1734.000000  1734.000000  1734.000000  1734.000000   \n",
       "mean      3.794694     0.160110   229.206358    21.880351    74.890006   \n",
       "std       2.297407     0.206419   532.862614   202.891949   175.232540   \n",
       "min       1.000000     0.000000     1.080000 -3839.990400     1.240000   \n",
       "25%       2.000000     0.000000    16.695000     1.702400     6.480000   \n",
       "50%       3.000000     0.200000    52.245000     8.073050    19.990000   \n",
       "75%       5.000000     0.200000   209.917500    27.414450    79.872500   \n",
       "max      14.000000     0.800000  8159.952000  3177.475000  3999.990000   \n",
       "\n",
       "       unit_profit  \n",
       "count  1734.000000  \n",
       "mean      6.197098  \n",
       "std      49.454376  \n",
       "min    -959.997600  \n",
       "25%       0.722800  \n",
       "50%       2.660250  \n",
       "75%       8.158600  \n",
       "max     997.995000  "
      ]
     },
     "execution_count": 9,
     "metadata": {},
     "output_type": "execute_result"
    }
   ],
   "source": [
    "df_items.describe()"
   ]
  },
  {
   "cell_type": "code",
   "execution_count": 10,
   "metadata": {},
   "outputs": [
    {
     "data": {
      "text/html": [
       "<div>\n",
       "<style scoped>\n",
       "    .dataframe tbody tr th:only-of-type {\n",
       "        vertical-align: middle;\n",
       "    }\n",
       "\n",
       "    .dataframe tbody tr th {\n",
       "        vertical-align: top;\n",
       "    }\n",
       "\n",
       "    .dataframe thead th {\n",
       "        text-align: right;\n",
       "    }\n",
       "</style>\n",
       "<table border=\"1\" class=\"dataframe\">\n",
       "  <thead>\n",
       "    <tr style=\"text-align: right;\">\n",
       "      <th></th>\n",
       "      <th>product_id</th>\n",
       "      <th>product_name</th>\n",
       "    </tr>\n",
       "  </thead>\n",
       "  <tbody>\n",
       "    <tr>\n",
       "      <th>1708</th>\n",
       "      <td>OFF-PA-10003424</td>\n",
       "      <td>\"While you Were Out\" Message Book, One Form pe...</td>\n",
       "    </tr>\n",
       "    <tr>\n",
       "      <th>355</th>\n",
       "      <td>OFF-EN-10001137</td>\n",
       "      <td>#10 Gummed Flap White Envelopes, 100/Box</td>\n",
       "    </tr>\n",
       "    <tr>\n",
       "      <th>985</th>\n",
       "      <td>OFF-EN-10000461</td>\n",
       "      <td>#10- 4 1/8\" x 9 1/2\" Recycled Envelopes</td>\n",
       "    </tr>\n",
       "    <tr>\n",
       "      <th>1228</th>\n",
       "      <td>OFF-EN-10001219</td>\n",
       "      <td>#10- 4 1/8\" x 9 1/2\" Security-Tint Envelopes</td>\n",
       "    </tr>\n",
       "    <tr>\n",
       "      <th>711</th>\n",
       "      <td>OFF-EN-10001219</td>\n",
       "      <td>#10- 4 1/8\" x 9 1/2\" Security-Tint Envelopes</td>\n",
       "    </tr>\n",
       "    <tr>\n",
       "      <th>...</th>\n",
       "      <td>...</td>\n",
       "      <td>...</td>\n",
       "    </tr>\n",
       "    <tr>\n",
       "      <th>1679</th>\n",
       "      <td>TEC-PH-10003589</td>\n",
       "      <td>invisibleSHIELD by ZAGG Smudge-Free Screen Pro...</td>\n",
       "    </tr>\n",
       "    <tr>\n",
       "      <th>1612</th>\n",
       "      <td>TEC-PH-10002726</td>\n",
       "      <td>netTALK DUO VoIP Telephone Service</td>\n",
       "    </tr>\n",
       "    <tr>\n",
       "      <th>1696</th>\n",
       "      <td>TEC-PH-10002726</td>\n",
       "      <td>netTALK DUO VoIP Telephone Service</td>\n",
       "    </tr>\n",
       "    <tr>\n",
       "      <th>1672</th>\n",
       "      <td>TEC-PH-10002726</td>\n",
       "      <td>netTALK DUO VoIP Telephone Service</td>\n",
       "    </tr>\n",
       "    <tr>\n",
       "      <th>68</th>\n",
       "      <td>TEC-PH-10002726</td>\n",
       "      <td>netTALK DUO VoIP Telephone Service</td>\n",
       "    </tr>\n",
       "  </tbody>\n",
       "</table>\n",
       "<p>1734 rows × 2 columns</p>\n",
       "</div>"
      ],
      "text/plain": [
       "           product_id                                       product_name\n",
       "1708  OFF-PA-10003424  \"While you Were Out\" Message Book, One Form pe...\n",
       "355   OFF-EN-10001137           #10 Gummed Flap White Envelopes, 100/Box\n",
       "985   OFF-EN-10000461            #10- 4 1/8\" x 9 1/2\" Recycled Envelopes\n",
       "1228  OFF-EN-10001219       #10- 4 1/8\" x 9 1/2\" Security-Tint Envelopes\n",
       "711   OFF-EN-10001219       #10- 4 1/8\" x 9 1/2\" Security-Tint Envelopes\n",
       "...               ...                                                ...\n",
       "1679  TEC-PH-10003589  invisibleSHIELD by ZAGG Smudge-Free Screen Pro...\n",
       "1612  TEC-PH-10002726                 netTALK DUO VoIP Telephone Service\n",
       "1696  TEC-PH-10002726                 netTALK DUO VoIP Telephone Service\n",
       "1672  TEC-PH-10002726                 netTALK DUO VoIP Telephone Service\n",
       "68    TEC-PH-10002726                 netTALK DUO VoIP Telephone Service\n",
       "\n",
       "[1734 rows x 2 columns]"
      ]
     },
     "execution_count": 10,
     "metadata": {},
     "output_type": "execute_result"
    }
   ],
   "source": [
    "df[['product_id', 'product_name']].sort_values('product_name')"
   ]
  },
  {
   "cell_type": "code",
   "execution_count": 11,
   "metadata": {},
   "outputs": [
    {
     "data": {
      "text/plain": [
       "0.00    810\n",
       "0.20    656\n",
       "0.70     82\n",
       "0.80     46\n",
       "0.40     41\n",
       "0.30     31\n",
       "0.60     19\n",
       "0.50     18\n",
       "0.10     14\n",
       "0.15      8\n",
       "0.45      5\n",
       "0.32      4\n",
       "Name: discount, dtype: int64"
      ]
     },
     "execution_count": 11,
     "metadata": {},
     "output_type": "execute_result"
    }
   ],
   "source": [
    "df.discount.value_counts()"
   ]
  },
  {
   "cell_type": "code",
   "execution_count": 50,
   "metadata": {},
   "outputs": [
    {
     "data": {
      "text/html": [
       "<div>\n",
       "<style scoped>\n",
       "    .dataframe tbody tr th:only-of-type {\n",
       "        vertical-align: middle;\n",
       "    }\n",
       "\n",
       "    .dataframe tbody tr th {\n",
       "        vertical-align: top;\n",
       "    }\n",
       "\n",
       "    .dataframe thead th {\n",
       "        text-align: right;\n",
       "    }\n",
       "</style>\n",
       "<table border=\"1\" class=\"dataframe\">\n",
       "  <thead>\n",
       "    <tr style=\"text-align: right;\">\n",
       "      <th></th>\n",
       "      <th>order_id</th>\n",
       "      <th>order_date</th>\n",
       "      <th>ship_date</th>\n",
       "      <th>ship_mode</th>\n",
       "      <th>customer_id</th>\n",
       "      <th>segment</th>\n",
       "      <th>country</th>\n",
       "      <th>city</th>\n",
       "      <th>state</th>\n",
       "      <th>postal_code</th>\n",
       "      <th>...</th>\n",
       "      <th>discount</th>\n",
       "      <th>profit</th>\n",
       "      <th>category_id</th>\n",
       "      <th>region_id</th>\n",
       "      <th>category</th>\n",
       "      <th>sub_category</th>\n",
       "      <th>customer_name</th>\n",
       "      <th>product_name</th>\n",
       "      <th>region_name</th>\n",
       "      <th>brand</th>\n",
       "    </tr>\n",
       "  </thead>\n",
       "  <tbody>\n",
       "    <tr>\n",
       "      <th>0</th>\n",
       "      <td>CA-2016-152156</td>\n",
       "      <td>2016-11-08</td>\n",
       "      <td>2016-11-11</td>\n",
       "      <td>Second Class</td>\n",
       "      <td>CG-12520</td>\n",
       "      <td>Consumer</td>\n",
       "      <td>United States</td>\n",
       "      <td>Henderson</td>\n",
       "      <td>Kentucky</td>\n",
       "      <td>42420.0</td>\n",
       "      <td>...</td>\n",
       "      <td>0.00</td>\n",
       "      <td>41.9136</td>\n",
       "      <td>1</td>\n",
       "      <td>1</td>\n",
       "      <td>Furniture</td>\n",
       "      <td>Bookcases</td>\n",
       "      <td>Claire Gute</td>\n",
       "      <td>Bush Somerset Collection Bookcase</td>\n",
       "      <td>South</td>\n",
       "      <td>Bush</td>\n",
       "    </tr>\n",
       "    <tr>\n",
       "      <th>1</th>\n",
       "      <td>CA-2016-152156</td>\n",
       "      <td>2016-11-08</td>\n",
       "      <td>2016-11-11</td>\n",
       "      <td>Second Class</td>\n",
       "      <td>CG-12520</td>\n",
       "      <td>Consumer</td>\n",
       "      <td>United States</td>\n",
       "      <td>Henderson</td>\n",
       "      <td>Kentucky</td>\n",
       "      <td>42420.0</td>\n",
       "      <td>...</td>\n",
       "      <td>0.00</td>\n",
       "      <td>219.5820</td>\n",
       "      <td>2</td>\n",
       "      <td>1</td>\n",
       "      <td>Furniture</td>\n",
       "      <td>Chairs</td>\n",
       "      <td>Claire Gute</td>\n",
       "      <td>Hon Deluxe Fabric Upholstered Stacking Chairs,...</td>\n",
       "      <td>South</td>\n",
       "      <td>Hon</td>\n",
       "    </tr>\n",
       "    <tr>\n",
       "      <th>2</th>\n",
       "      <td>CA-2016-138688</td>\n",
       "      <td>2016-06-12</td>\n",
       "      <td>2016-06-16</td>\n",
       "      <td>Second Class</td>\n",
       "      <td>DV-13045</td>\n",
       "      <td>Corporate</td>\n",
       "      <td>United States</td>\n",
       "      <td>Los Angeles</td>\n",
       "      <td>California</td>\n",
       "      <td>90036.0</td>\n",
       "      <td>...</td>\n",
       "      <td>0.00</td>\n",
       "      <td>6.8714</td>\n",
       "      <td>3</td>\n",
       "      <td>2</td>\n",
       "      <td>Office Supplies</td>\n",
       "      <td>Labels</td>\n",
       "      <td>Darrin Van Huff</td>\n",
       "      <td>Self-Adhesive Address Labels for Typewriters b...</td>\n",
       "      <td>West</td>\n",
       "      <td>Self-Adhesive</td>\n",
       "    </tr>\n",
       "    <tr>\n",
       "      <th>3</th>\n",
       "      <td>US-2015-108966</td>\n",
       "      <td>2015-10-11</td>\n",
       "      <td>2015-10-18</td>\n",
       "      <td>Standard Class</td>\n",
       "      <td>SO-20335</td>\n",
       "      <td>Consumer</td>\n",
       "      <td>United States</td>\n",
       "      <td>Fort Lauderdale</td>\n",
       "      <td>Florida</td>\n",
       "      <td>33311.0</td>\n",
       "      <td>...</td>\n",
       "      <td>0.45</td>\n",
       "      <td>-383.0310</td>\n",
       "      <td>4</td>\n",
       "      <td>1</td>\n",
       "      <td>Furniture</td>\n",
       "      <td>Tables</td>\n",
       "      <td>Sean O'Donnell</td>\n",
       "      <td>Bretford CR4500 Series Slim Rectangular Table</td>\n",
       "      <td>South</td>\n",
       "      <td>Bretford</td>\n",
       "    </tr>\n",
       "    <tr>\n",
       "      <th>4</th>\n",
       "      <td>US-2015-108966</td>\n",
       "      <td>2015-10-11</td>\n",
       "      <td>2015-10-18</td>\n",
       "      <td>Standard Class</td>\n",
       "      <td>SO-20335</td>\n",
       "      <td>Consumer</td>\n",
       "      <td>United States</td>\n",
       "      <td>Fort Lauderdale</td>\n",
       "      <td>Florida</td>\n",
       "      <td>33311.0</td>\n",
       "      <td>...</td>\n",
       "      <td>0.20</td>\n",
       "      <td>2.5164</td>\n",
       "      <td>5</td>\n",
       "      <td>1</td>\n",
       "      <td>Office Supplies</td>\n",
       "      <td>Storage</td>\n",
       "      <td>Sean O'Donnell</td>\n",
       "      <td>Eldon Fold 'N Roll Cart System</td>\n",
       "      <td>South</td>\n",
       "      <td>Eldon</td>\n",
       "    </tr>\n",
       "  </tbody>\n",
       "</table>\n",
       "<p>5 rows × 23 columns</p>\n",
       "</div>"
      ],
      "text/plain": [
       "         order_id order_date  ship_date       ship_mode customer_id  \\\n",
       "0  CA-2016-152156 2016-11-08 2016-11-11    Second Class    CG-12520   \n",
       "1  CA-2016-152156 2016-11-08 2016-11-11    Second Class    CG-12520   \n",
       "2  CA-2016-138688 2016-06-12 2016-06-16    Second Class    DV-13045   \n",
       "3  US-2015-108966 2015-10-11 2015-10-18  Standard Class    SO-20335   \n",
       "4  US-2015-108966 2015-10-11 2015-10-18  Standard Class    SO-20335   \n",
       "\n",
       "     segment        country             city       state  postal_code  ...  \\\n",
       "0   Consumer  United States        Henderson    Kentucky      42420.0  ...   \n",
       "1   Consumer  United States        Henderson    Kentucky      42420.0  ...   \n",
       "2  Corporate  United States      Los Angeles  California      90036.0  ...   \n",
       "3   Consumer  United States  Fort Lauderdale     Florida      33311.0  ...   \n",
       "4   Consumer  United States  Fort Lauderdale     Florida      33311.0  ...   \n",
       "\n",
       "  discount    profit  category_id  region_id         category  sub_category  \\\n",
       "0     0.00   41.9136            1          1        Furniture     Bookcases   \n",
       "1     0.00  219.5820            2          1        Furniture        Chairs   \n",
       "2     0.00    6.8714            3          2  Office Supplies        Labels   \n",
       "3     0.45 -383.0310            4          1        Furniture        Tables   \n",
       "4     0.20    2.5164            5          1  Office Supplies       Storage   \n",
       "\n",
       "     customer_name                                       product_name  \\\n",
       "0      Claire Gute                  Bush Somerset Collection Bookcase   \n",
       "1      Claire Gute  Hon Deluxe Fabric Upholstered Stacking Chairs,...   \n",
       "2  Darrin Van Huff  Self-Adhesive Address Labels for Typewriters b...   \n",
       "3   Sean O'Donnell      Bretford CR4500 Series Slim Rectangular Table   \n",
       "4   Sean O'Donnell                     Eldon Fold 'N Roll Cart System   \n",
       "\n",
       "  region_name          brand  \n",
       "0       South           Bush  \n",
       "1       South            Hon  \n",
       "2        West  Self-Adhesive  \n",
       "3       South       Bretford  \n",
       "4       South          Eldon  \n",
       "\n",
       "[5 rows x 23 columns]"
      ]
     },
     "execution_count": 50,
     "metadata": {},
     "output_type": "execute_result"
    }
   ],
   "source": [
    "# add a column for brand\n",
    "df['brand'] = df.product_name.str.split(' ').str[0]\n",
    "df.head()\n"
   ]
  },
  {
   "cell_type": "code",
   "execution_count": 13,
   "metadata": {},
   "outputs": [
    {
     "data": {
      "text/plain": [
       "Xerox              133\n",
       "Avery               95\n",
       "GBC                 54\n",
       "Newell              45\n",
       "Eldon               43\n",
       "                  ... \n",
       "Companion            1\n",
       "Fluorescent          1\n",
       "Magnifier            1\n",
       "Logitech Gaming      1\n",
       "Avanti               1\n",
       "Name: brand, Length: 371, dtype: int64"
      ]
     },
     "execution_count": 13,
     "metadata": {},
     "output_type": "execute_result"
    }
   ],
   "source": [
    "df.brand.value_counts()"
   ]
  },
  {
   "cell_type": "code",
   "execution_count": 14,
   "metadata": {},
   "outputs": [],
   "source": [
    "# # round sales and profit to 2 decimal places\n",
    "# df['sales'] = df.sales.round(2)\n",
    "# df['profit'] = df.profit.round(2)\n"
   ]
  },
  {
   "cell_type": "code",
   "execution_count": 15,
   "metadata": {},
   "outputs": [
    {
     "data": {
      "text/plain": [
       "Xerox          133\n",
       "Avery           95\n",
       "GBC             54\n",
       "Newell          45\n",
       "Eldon           43\n",
       "Global          43\n",
       "Fellowes        42\n",
       "Acco            34\n",
       "Wilson          33\n",
       "Logitech        31\n",
       "Hon             27\n",
       "Belkin          26\n",
       "Howard          17\n",
       "Boston          15\n",
       "Cisco           15\n",
       "Safco           14\n",
       "Ibico           14\n",
       "Acme            14\n",
       "Tenex           13\n",
       "Advantus        13\n",
       "Bush            13\n",
       "Staples         12\n",
       "Bevis           12\n",
       "Staple          12\n",
       "Recycled        12\n",
       "Plantronics     11\n",
       "Kensington      11\n",
       "DAX             11\n",
       "Panasonic       11\n",
       "Cardinal        11\n",
       "Name: brand, dtype: int64"
      ]
     },
     "execution_count": 15,
     "metadata": {},
     "output_type": "execute_result"
    }
   ],
   "source": [
    "# how many brands have more than 1 product\n",
    "df.brand.value_counts()[df.brand.value_counts() > 10]"
   ]
  },
  {
   "cell_type": "code",
   "execution_count": 18,
   "metadata": {},
   "outputs": [
    {
     "data": {
      "text/plain": [
       "<AxesSubplot:xlabel='brand'>"
      ]
     },
     "execution_count": 18,
     "metadata": {},
     "output_type": "execute_result"
    },
    {
     "data": {
      "image/png": "[encoded data removed]",
      "text/plain": [
       "<Figure size 432x288 with 1 Axes>"
      ]
     },
     "metadata": {},
     "output_type": "display_data"
    }
   ],
   "source": [
    "# graph brand vs profit\n",
    "df.groupby('brand').profit.sum().sort_values(ascending=False).plot(kind='bar')"
   ]
  },
  {
   "cell_type": "code",
   "execution_count": 31,
   "metadata": {},
   "outputs": [],
   "source": [
    "# most common brands\n",
    "common_brands = df.brand.value_counts()[df.brand.value_counts() > 10].index.tolist()"
   ]
  },
  {
   "cell_type": "code",
   "execution_count": 42,
   "metadata": {},
   "outputs": [
    {
     "data": {
      "text/plain": [
       "<AxesSubplot:xlabel='brand'>"
      ]
     },
     "execution_count": 42,
     "metadata": {},
     "output_type": "execute_result"
    },
    {
     "data": {
      "image/png": "[encoded data removed]",
      "text/plain": [
       "<Figure size 1440x720 with 1 Axes>"
      ]
     },
     "metadata": {},
     "output_type": "display_data"
    }
   ],
   "source": [
    "# make a new df wiht only the common brands\n",
    "df_common_brands = df[df.brand.isin(common_brands)]\n",
    "# change figure size\n",
    "plt.figure(figsize=(20,10))\n",
    "#graph brand vs profit\n",
    "df_common_brands.groupby('brand').profit.sum().sort_values(ascending=False).plot(kind='bar', width = 1.0, ec='black')\n",
    "\n"
   ]
  },
  {
   "cell_type": "code",
   "execution_count": 65,
   "metadata": {},
   "outputs": [
    {
     "data": {
      "text/plain": [
       "brand\n",
       "Xerox         2\n",
       "Advantus      2\n",
       "Wilson        2\n",
       "Belkin        2\n",
       "Tenex         2\n",
       "Safco         2\n",
       "Eldon         2\n",
       "Panasonic     2\n",
       "Kensington    2\n",
       "Ibico         1\n",
       "Name: category, dtype: int64"
      ]
     },
     "execution_count": 65,
     "metadata": {},
     "output_type": "execute_result"
    }
   ],
   "source": [
    "# how many categories per brand\n",
    "df_common_brands.groupby('brand').category.nunique().sort_values(ascending=False).head(10)"
   ]
  },
  {
   "cell_type": "code",
   "execution_count": 69,
   "metadata": {},
   "outputs": [
    {
     "data": {
      "text/plain": [
       "array(['Paper', 'Machines'], dtype=object)"
      ]
     },
     "execution_count": 69,
     "metadata": {},
     "output_type": "execute_result"
    }
   ],
   "source": [
    "# brand Xerox has which categories\n",
    "df_common_brands[df_common_brands.brand == 'Xerox'].sub_category.unique()"
   ]
  },
  {
   "cell_type": "code",
   "execution_count": 75,
   "metadata": {},
   "outputs": [
    {
     "data": {
      "text/plain": [
       "Xerox 1881    7\n",
       "Xerox 1916    4\n",
       "Xerox 196     3\n",
       "Xerox 1943    3\n",
       "Xerox 1995    3\n",
       "             ..\n",
       "Xerox 1931    1\n",
       "Xerox 1985    1\n",
       "Xerox 213     1\n",
       "Xerox 1920    1\n",
       "Xerox 1925    1\n",
       "Name: product_name, Length: 88, dtype: int64"
      ]
     },
     "execution_count": 75,
     "metadata": {},
     "output_type": "execute_result"
    }
   ],
   "source": [
    "df_common_brands[df_common_brands.brand == 'Xerox'].product_name.value_counts()"
   ]
  },
  {
   "cell_type": "code",
   "execution_count": 78,
   "metadata": {},
   "outputs": [],
   "source": [
    "# make a new column in df for product_line\n",
    "df['product_line'] = df.brand + '_' + df.sub_category"
   ]
  },
  {
   "cell_type": "code",
   "execution_count": 81,
   "metadata": {},
   "outputs": [
    {
     "data": {
      "text/plain": [
       "product_line\n",
       "Xerox_Paper             87\n",
       "Newell_Art              37\n",
       "Avery_Labels            35\n",
       "GBC_Binders             30\n",
       "Avery_Binders           24\n",
       "Global_Chairs           24\n",
       "Eldon_Furnishings       19\n",
       "Wilson_Binders          18\n",
       "Logitech_Accessories    17\n",
       "Acco_Binders            14\n",
       "Name: product_name, dtype: int64"
      ]
     },
     "execution_count": 81,
     "metadata": {},
     "output_type": "execute_result"
    }
   ],
   "source": [
    "# how many unique item_name per product_line\n",
    "df.groupby('product_line').product_name.nunique().sort_values(ascending=False).head(10)\n"
   ]
  },
  {
   "cell_type": "code",
   "execution_count": 83,
   "metadata": {},
   "outputs": [
    {
     "data": {
      "text/plain": [
       "product_line\n",
       "Ativa_Machines              2400.965700\n",
       "Hewlett-Packard_Machines    1459.200000\n",
       "Canon_Machines              1019.594550\n",
       "Maxell iVDR_Accessories      829.375400\n",
       "Canon_Copiers                761.485780\n",
       "Fellowes_Binders             464.570211\n",
       "Sharp_Copiers                434.991300\n",
       "Bose_Phones                  376.110000\n",
       "Hewlett_Copiers              355.493450\n",
       "Honeywell_Appliances         337.486750\n",
       "Name: profit, dtype: float64"
      ]
     },
     "execution_count": 83,
     "metadata": {},
     "output_type": "execute_result"
    }
   ],
   "source": [
    "# profit per product_line\n",
    "df.groupby('product_line').profit.mean().sort_values(ascending=False).head(10)\n",
    "\n"
   ]
  },
  {
   "cell_type": "code",
   "execution_count": 85,
   "metadata": {},
   "outputs": [
    {
     "data": {
      "text/plain": [
       "product_line\n",
       "Fellowes_Binders            4181.1319\n",
       "Canon_Copiers               3807.4289\n",
       "Xerox_Paper                 3495.3466\n",
       "Ativa_Machines              2400.9657\n",
       "Global_Chairs               2047.7446\n",
       "Canon_Machines              2039.1891\n",
       "Logitech_Accessories        1787.3056\n",
       "Hewlett-Packard_Machines    1459.2000\n",
       "Hon_Chairs                  1264.4557\n",
       "Plantronics_Accessories     1193.1090\n",
       "Name: profit, dtype: float64"
      ]
     },
     "execution_count": 85,
     "metadata": {},
     "output_type": "execute_result"
    }
   ],
   "source": [
    "# profit per product_line\n",
    "df.groupby('product_line').profit.sum().sort_values(ascending=False).head(10)"
   ]
  },
  {
   "cell_type": "code",
   "execution_count": 84,
   "metadata": {},
   "outputs": [
    {
     "data": {
      "text/plain": [
       "product_line\n",
       "Cubify_Machines         -3839.99040\n",
       "Riverside_Bookcases      -991.10250\n",
       "Riverside_Tables         -619.59600\n",
       "StarTech.com_Machines    -559.35600\n",
       "Swingline_Machines       -383.99040\n",
       "BoxOffice_Tables         -364.21875\n",
       "Bush_Tables              -336.99230\n",
       "Office_Tables            -297.68480\n",
       "Lexmark_Machines         -267.51020\n",
       "Xerox_Machines           -251.99580\n",
       "Name: profit, dtype: float64"
      ]
     },
     "execution_count": 84,
     "metadata": {},
     "output_type": "execute_result"
    }
   ],
   "source": [
    "# profit per product_line\n",
    "df.groupby('product_line').profit.mean().sort_values(ascending=True).head(10)"
   ]
  },
  {
   "cell_type": "markdown",
   "metadata": {},
   "source": [
    "### questions\n",
    "Is there a product category that is particularly profitable for us? "
   ]
  },
  {
   "cell_type": "code",
   "execution_count": 86,
   "metadata": {},
   "outputs": [
    {
     "data": {
      "text/plain": [
       "category\n",
       "Office Supplies    19312.4297\n",
       "Technology         19251.3447\n",
       "Furniture           -623.2451\n",
       "Name: profit, dtype: float64"
      ]
     },
     "execution_count": 86,
     "metadata": {},
     "output_type": "execute_result"
    }
   ],
   "source": [
    "# show profit by category\n",
    "df.groupby('category').profit.sum().sort_values(ascending=False).head(10)"
   ]
  },
  {
   "cell_type": "code",
   "execution_count": 88,
   "metadata": {},
   "outputs": [
    {
     "data": {
      "text/plain": [
       "category\n",
       "Technology         60.349043\n",
       "Office Supplies    18.305621\n",
       "Furniture          -1.731236\n",
       "Name: profit, dtype: float64"
      ]
     },
     "execution_count": 88,
     "metadata": {},
     "output_type": "execute_result"
    }
   ],
   "source": [
    "# show profit by category\n",
    "df.groupby('category').profit.mean().sort_values(ascending=False).head(10)"
   ]
  },
  {
   "cell_type": "markdown",
   "metadata": {},
   "source": [
    "Does one or another stand out in terms of sales volume?"
   ]
  },
  {
   "cell_type": "code",
   "execution_count": 89,
   "metadata": {},
   "outputs": [
    {
     "data": {
      "text/plain": [
       "category\n",
       "Office Supplies    3974.0\n",
       "Furniture          1401.0\n",
       "Technology         1205.0\n",
       "Name: quantity, dtype: float64"
      ]
     },
     "execution_count": 89,
     "metadata": {},
     "output_type": "execute_result"
    }
   ],
   "source": [
    "# show quantity by category\n",
    "df.groupby('category').quantity.sum().sort_values(ascending=False).head(10)"
   ]
  },
  {
   "cell_type": "markdown",
   "metadata": {},
   "source": [
    "Does this vary by customer segment?"
   ]
  },
  {
   "cell_type": "code",
   "execution_count": 92,
   "metadata": {},
   "outputs": [
    {
     "data": {
      "text/plain": [
       "Consumer       954\n",
       "Corporate      478\n",
       "Home Office    302\n",
       "Name: segment, dtype: int64"
      ]
     },
     "execution_count": 92,
     "metadata": {},
     "output_type": "execute_result"
    }
   ],
   "source": [
    "df.segment.value_counts()"
   ]
  },
  {
   "cell_type": "code",
   "execution_count": 128,
   "metadata": {},
   "outputs": [
    {
     "data": {
      "text/plain": [
       "Consumer       0.550173\n",
       "Corporate      0.275663\n",
       "Home Office    0.174164\n",
       "Name: segment, dtype: float64"
      ]
     },
     "execution_count": 128,
     "metadata": {},
     "output_type": "execute_result"
    }
   ],
   "source": [
    "df.segment.value_counts()/df.segment.value_counts().sum()"
   ]
  },
  {
   "cell_type": "code",
   "execution_count": 93,
   "metadata": {},
   "outputs": [],
   "source": [
    "# split df consumer, corporate, and home_office\n",
    "df_consumer = df[df.segment == 'Consumer']\n",
    "df_corporate = df[df.segment == 'Corporate']\n",
    "df_home_office = df[df.segment == 'Home Office']\n",
    "\n",
    "\n"
   ]
  },
  {
   "cell_type": "code",
   "execution_count": 94,
   "metadata": {},
   "outputs": [
    {
     "data": {
      "text/plain": [
       "category\n",
       "Technology         13628.3838\n",
       "Office Supplies     9561.4123\n",
       "Furniture          -2516.3903\n",
       "Name: profit, dtype: float64"
      ]
     },
     "execution_count": 94,
     "metadata": {},
     "output_type": "execute_result"
    }
   ],
   "source": [
    "# show profit by category\n",
    "df_consumer.groupby('category').profit.sum().sort_values(ascending=False).head(10)"
   ]
  },
  {
   "cell_type": "code",
   "execution_count": 95,
   "metadata": {},
   "outputs": [
    {
     "data": {
      "text/plain": [
       "category\n",
       "Office Supplies    5806.4740\n",
       "Furniture          1849.1334\n",
       "Technology         -774.9598\n",
       "Name: profit, dtype: float64"
      ]
     },
     "execution_count": 95,
     "metadata": {},
     "output_type": "execute_result"
    }
   ],
   "source": [
    "df_corporate.groupby('category').profit.sum().sort_values(ascending=False).head(10)"
   ]
  },
  {
   "cell_type": "code",
   "execution_count": 96,
   "metadata": {},
   "outputs": [
    {
     "data": {
      "text/plain": [
       "category\n",
       "Technology         6397.9207\n",
       "Office Supplies    3944.5434\n",
       "Furniture            44.0118\n",
       "Name: profit, dtype: float64"
      ]
     },
     "execution_count": 96,
     "metadata": {},
     "output_type": "execute_result"
    }
   ],
   "source": [
    "df_home_office.groupby('category').profit.sum().sort_values(ascending=False).head(10)"
   ]
  },
  {
   "cell_type": "code",
   "execution_count": 97,
   "metadata": {},
   "outputs": [
    {
     "data": {
      "text/plain": [
       "category\n",
       "Office Supplies    2127.0\n",
       "Furniture           782.0\n",
       "Technology          659.0\n",
       "Name: quantity, dtype: float64"
      ]
     },
     "execution_count": 97,
     "metadata": {},
     "output_type": "execute_result"
    }
   ],
   "source": [
    "df_consumer.groupby('category').quantity.sum().sort_values(ascending=False).head(10)"
   ]
  },
  {
   "cell_type": "code",
   "execution_count": 98,
   "metadata": {},
   "outputs": [
    {
     "data": {
      "text/plain": [
       "category\n",
       "Office Supplies    1183.0\n",
       "Furniture           357.0\n",
       "Technology          332.0\n",
       "Name: quantity, dtype: float64"
      ]
     },
     "execution_count": 98,
     "metadata": {},
     "output_type": "execute_result"
    }
   ],
   "source": [
    "df_corporate.groupby('category').quantity.sum().sort_values(ascending=False).head(10)"
   ]
  },
  {
   "cell_type": "code",
   "execution_count": 99,
   "metadata": {},
   "outputs": [
    {
     "data": {
      "text/plain": [
       "category\n",
       "Office Supplies    664.0\n",
       "Furniture          262.0\n",
       "Technology         214.0\n",
       "Name: quantity, dtype: float64"
      ]
     },
     "execution_count": 99,
     "metadata": {},
     "output_type": "execute_result"
    }
   ],
   "source": [
    "df_home_office.groupby('category').quantity.sum().sort_values(ascending=False).head(10)"
   ]
  },
  {
   "cell_type": "code",
   "execution_count": 110,
   "metadata": {},
   "outputs": [
    {
     "data": {
      "text/html": [
       "<div>\n",
       "<style scoped>\n",
       "    .dataframe tbody tr th:only-of-type {\n",
       "        vertical-align: middle;\n",
       "    }\n",
       "\n",
       "    .dataframe tbody tr th {\n",
       "        vertical-align: top;\n",
       "    }\n",
       "\n",
       "    .dataframe thead th {\n",
       "        text-align: right;\n",
       "    }\n",
       "</style>\n",
       "<table border=\"1\" class=\"dataframe\">\n",
       "  <thead>\n",
       "    <tr style=\"text-align: right;\">\n",
       "      <th></th>\n",
       "      <th>consumer_quantity</th>\n",
       "      <th>corporate_quantity</th>\n",
       "      <th>home_office_quantity</th>\n",
       "    </tr>\n",
       "    <tr>\n",
       "      <th>category</th>\n",
       "      <th></th>\n",
       "      <th></th>\n",
       "      <th></th>\n",
       "    </tr>\n",
       "  </thead>\n",
       "  <tbody>\n",
       "    <tr>\n",
       "      <th>Office Supplies</th>\n",
       "      <td>2127.0</td>\n",
       "      <td>1183.0</td>\n",
       "      <td>664.0</td>\n",
       "    </tr>\n",
       "    <tr>\n",
       "      <th>Furniture</th>\n",
       "      <td>782.0</td>\n",
       "      <td>357.0</td>\n",
       "      <td>262.0</td>\n",
       "    </tr>\n",
       "    <tr>\n",
       "      <th>Technology</th>\n",
       "      <td>659.0</td>\n",
       "      <td>332.0</td>\n",
       "      <td>214.0</td>\n",
       "    </tr>\n",
       "  </tbody>\n",
       "</table>\n",
       "</div>"
      ],
      "text/plain": [
       "                 consumer_quantity  corporate_quantity  home_office_quantity\n",
       "category                                                                    \n",
       "Office Supplies             2127.0              1183.0                 664.0\n",
       "Furniture                    782.0               357.0                 262.0\n",
       "Technology                   659.0               332.0                 214.0"
      ]
     },
     "execution_count": 110,
     "metadata": {},
     "output_type": "execute_result"
    }
   ],
   "source": [
    "#combine above into a single df\n",
    "segment_quantity_df = pd.DataFrame()\n",
    "segment_quantity_df['consumer_quantity'] = df_consumer.groupby('category').quantity.sum().sort_values(ascending=False).head(10)\n",
    "segment_quantity_df['corporate_quantity'] = df_corporate.groupby('category').quantity.sum().sort_values(ascending=False).head(10)\n",
    "segment_quantity_df['home_office_quantity'] = df_home_office.groupby('category').quantity.sum().sort_values(ascending=False).head(10)\n",
    "segment_quantity_df\n"
   ]
  },
  {
   "cell_type": "code",
   "execution_count": 151,
   "metadata": {},
   "outputs": [
    {
     "data": {
      "text/html": [
       "<div>\n",
       "<style scoped>\n",
       "    .dataframe tbody tr th:only-of-type {\n",
       "        vertical-align: middle;\n",
       "    }\n",
       "\n",
       "    .dataframe tbody tr th {\n",
       "        vertical-align: top;\n",
       "    }\n",
       "\n",
       "    .dataframe thead th {\n",
       "        text-align: right;\n",
       "    }\n",
       "</style>\n",
       "<table border=\"1\" class=\"dataframe\">\n",
       "  <thead>\n",
       "    <tr style=\"text-align: right;\">\n",
       "      <th></th>\n",
       "      <th>consumer_profit</th>\n",
       "      <th>corporate_profit</th>\n",
       "      <th>home_office_profit</th>\n",
       "    </tr>\n",
       "    <tr>\n",
       "      <th>category</th>\n",
       "      <th></th>\n",
       "      <th></th>\n",
       "      <th></th>\n",
       "    </tr>\n",
       "  </thead>\n",
       "  <tbody>\n",
       "    <tr>\n",
       "      <th>Technology</th>\n",
       "      <td>13628.38380</td>\n",
       "      <td>-774.959800</td>\n",
       "      <td>6397.920700</td>\n",
       "    </tr>\n",
       "    <tr>\n",
       "      <th>Office Supplies</th>\n",
       "      <td>9561.41230</td>\n",
       "      <td>5806.474000</td>\n",
       "      <td>3944.543400</td>\n",
       "    </tr>\n",
       "    <tr>\n",
       "      <th>Furniture</th>\n",
       "      <td>-2516.39030</td>\n",
       "      <td>1849.133400</td>\n",
       "      <td>44.011800</td>\n",
       "    </tr>\n",
       "    <tr>\n",
       "      <th>total</th>\n",
       "      <td>20673.40580</td>\n",
       "      <td>6880.647600</td>\n",
       "      <td>10386.475900</td>\n",
       "    </tr>\n",
       "    <tr>\n",
       "      <th>percent</th>\n",
       "      <td>0.54489</td>\n",
       "      <td>0.181353</td>\n",
       "      <td>0.273757</td>\n",
       "    </tr>\n",
       "  </tbody>\n",
       "</table>\n",
       "</div>"
      ],
      "text/plain": [
       "                 consumer_profit  corporate_profit  home_office_profit\n",
       "category                                                              \n",
       "Technology           13628.38380       -774.959800         6397.920700\n",
       "Office Supplies       9561.41230       5806.474000         3944.543400\n",
       "Furniture            -2516.39030       1849.133400           44.011800\n",
       "total                20673.40580       6880.647600        10386.475900\n",
       "percent                  0.54489          0.181353            0.273757"
      ]
     },
     "execution_count": 151,
     "metadata": {},
     "output_type": "execute_result"
    }
   ],
   "source": [
    "#combine above into a single df\n",
    "segment_profit_df = pd.DataFrame()\n",
    "segment_profit_df['consumer_profit'] = df_consumer.groupby('category').profit.sum().sort_values(ascending=False).head(10)\n",
    "segment_profit_df['corporate_profit'] = df_corporate.groupby('category').profit.sum().sort_values(ascending=False).head(10)\n",
    "segment_profit_df['home_office_profit'] = df_home_office.groupby('category').profit.sum().sort_values(ascending=False).head(10)\n",
    "# add a row for total\n",
    "segment_profit_df.loc['total'] = segment_profit_df.sum()\n",
    "# get total profit\n",
    "total_profit = df.groupby('sub_category').sum()['profit'].sort_values(ascending=False).sum()\n",
    "segment_profit_df.loc['percent'] = segment_profit_df.loc['total']/total_profit\n",
    "\n",
    "segment_profit_df"
   ]
  },
  {
   "cell_type": "code",
   "execution_count": null,
   "metadata": {},
   "outputs": [],
   "source": []
  },
  {
   "cell_type": "code",
   "execution_count": 146,
   "metadata": {},
   "outputs": [
    {
     "data": {
      "text/plain": [
       "<AxesSubplot:xlabel='category'>"
      ]
     },
     "execution_count": 146,
     "metadata": {},
     "output_type": "execute_result"
    },
    {
     "data": {
      "image/png": "[encoded data removed]",
      "text/plain": [
       "<Figure size 432x288 with 1 Axes>"
      ]
     },
     "metadata": {},
     "output_type": "display_data"
    }
   ],
   "source": [
    "# graph quantity by category\n",
    "segment_quantity_df.plot(kind='bar', stacked=True)"
   ]
  },
  {
   "cell_type": "code",
   "execution_count": 149,
   "metadata": {},
   "outputs": [
    {
     "data": {
      "image/png": "[encoded data removed]",
      "text/plain": [
       "<Figure size 432x288 with 1 Axes>"
      ]
     },
     "metadata": {},
     "output_type": "display_data"
    }
   ],
   "source": [
    "import matplotlib.pyplot as plt\n",
    "segment_profit_df.plot(kind='bar', stacked=True,)\n",
    "# change x axis rotation\n",
    "plt.xticks(rotation=45)\n",
    "#add title\n",
    "plt.title('Profit by Category and Segment')\n",
    "# ser y ticks to be in dollars\n",
    "# add line at 0\n",
    "plt.axhline(y=0, color='grey')\n",
    "ax = plt.gca()\n",
    "ax.yaxis.set_major_formatter('${x:,.0f}')\n"
   ]
  },
  {
   "cell_type": "code",
   "execution_count": 115,
   "metadata": {},
   "outputs": [
    {
     "data": {
      "text/plain": [
       "<AxesSubplot:xlabel='order_date'>"
      ]
     },
     "execution_count": 115,
     "metadata": {},
     "output_type": "execute_result"
    },
    {
     "data": {
      "image/png": "[encoded data removed]",
      "text/plain": [
       "<Figure size 432x288 with 1 Axes>"
      ]
     },
     "metadata": {},
     "output_type": "display_data"
    }
   ],
   "source": [
    "# chart profit over time\n",
    "df.groupby('order_date').profit.sum().plot(kind='line')"
   ]
  },
  {
   "cell_type": "code",
   "execution_count": 119,
   "metadata": {},
   "outputs": [
    {
     "data": {
      "text/plain": [
       "<AxesSubplot:xlabel='order_date', ylabel='profit'>"
      ]
     },
     "execution_count": 119,
     "metadata": {},
     "output_type": "execute_result"
    },
    {
     "data": {
      "image/png": "[encoded data removed]",
      "text/plain": [
       "<Figure size 432x288 with 1 Axes>"
      ]
     },
     "metadata": {},
     "output_type": "display_data"
    }
   ],
   "source": [
    "# chart profit by category over time using seaborn\n",
    "sns.lineplot(x='order_date', y='profit', data=df, hue='category')\n"
   ]
  },
  {
   "cell_type": "code",
   "execution_count": 125,
   "metadata": {},
   "outputs": [
    {
     "data": {
      "text/plain": [
       "Binders        263\n",
       "Paper          224\n",
       "Furnishings    168\n",
       "Storage        162\n",
       "Phones         157\n",
       "Art            149\n",
       "Accessories    131\n",
       "Chairs          95\n",
       "Appliances      71\n",
       "Labels          67\n",
       "Tables          62\n",
       "Envelopes       48\n",
       "Fasteners       43\n",
       "Bookcases       35\n",
       "Supplies        28\n",
       "Machines        21\n",
       "Copiers         10\n",
       "Name: sub_category, dtype: int64"
      ]
     },
     "execution_count": 125,
     "metadata": {},
     "output_type": "execute_result"
    }
   ],
   "source": [
    "df.sub_category.value_counts()"
   ]
  },
  {
   "cell_type": "code",
   "execution_count": null,
   "metadata": {},
   "outputs": [],
   "source": []
  }
 ],
 "metadata": {
  "interpreter": {
   "hash": "3067ead486e059ec00ffe7555bdb889e6e264a24dc711bf108106cc7baee8d5d"
  },
  "kernelspec": {
   "display_name": "Python 3.9.7 ('base')",
   "language": "python",
   "name": "python3"
  },
  "language_info": {
   "codemirror_mode": {
    "name": "ipython",
    "version": 3
   },
   "file_extension": ".py",
   "mimetype": "text/x-python",
   "name": "python",
   "nbconvert_exporter": "python",
   "pygments_lexer": "ipython3",
   "version": "3.9.7"
  },
  "orig_nbformat": 4
 },
 "nbformat": 4,
 "nbformat_minor": 2
}
